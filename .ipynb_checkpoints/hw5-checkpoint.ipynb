{
 "cells": [
  {
   "cell_type": "code",
   "execution_count": 1,
   "metadata": {},
   "outputs": [],
   "source": [
    "import matplotlib.pyplot as plt\n",
    "import numpy as np\n",
    "import time"
   ]
  },
  {
   "cell_type": "code",
   "execution_count": 2,
   "metadata": {},
   "outputs": [],
   "source": [
    "def generate_piecewise(size: int, shapes: int = 3):\n",
    "    rng = np.random.default_rng()\n",
    "    start = 0\n",
    "    colors = []\n",
    "    regions = shapes + 1\n",
    "    for r in range(regions):\n",
    "        start += rng.integers(128//regions, 255//regions)\n",
    "        colors.append(start)\n",
    "    rng.shuffle(colors)\n",
    "    piecewise = np.ones((size, size))\n",
    "    piecewise *= colors[0]\n",
    "    for i in range(1, regions):\n",
    "        start_x = rng.uniform(0, size-3)\n",
    "        start_y = rng.uniform(0, size-3)\n",
    "        end_x = start_x + rng.normal((size-start_x)/2)\n",
    "        end_x = max(end_x, start_x+3)\n",
    "        end_y = start_y + rng.normal((size-start_y)/2)\n",
    "        end_y = max(end_y, start_y+3)\n",
    "        start_x, start_y, end_x, end_y = np.array([start_x, start_y, end_x, end_y],dtype = int)\n",
    "        piecewise[start_y:end_y, start_x:end_x] = colors[i]\n",
    "    masks = []\n",
    "    for i in range(1, regions):\n",
    "        masks.append(piecewise==colors[i])\n",
    "    return piecewise, masks"
   ]
  },
  {
   "cell_type": "code",
   "execution_count": 11,
   "metadata": {},
   "outputs": [],
   "source": [
    "def add_noise(piecewise: np.array, intensity: int = 8):\n",
    "    rng = np.random.default_rng()\n",
    "    noise = rng.normal(scale=intensity, size=piecewise.shape)\n",
    "    piecewise += noise.astype(int)\n",
    "    return np.clip(piecewise, 0, 255)"
   ]
  },
  {
   "cell_type": "code",
   "execution_count": 12,
   "metadata": {},
   "outputs": [],
   "source": [
    "piecewise, masks = generate_piecewise(30)\n",
    "piecewise = add_noise(piecewise)"
   ]
  },
  {
   "cell_type": "code",
   "execution_count": 13,
   "metadata": {},
   "outputs": [
    {
     "data": {
      "text/plain": [
       "<matplotlib.image.AxesImage at 0x7fb590b0f050>"
      ]
     },
     "execution_count": 13,
     "metadata": {},
     "output_type": "execute_result"
    },
    {
     "data": {
      "image/png": "[encoded data removed]",
      "text/plain": [
       "<Figure size 432x288 with 1 Axes>"
      ]
     },
     "metadata": {
      "needs_background": "light"
     },
     "output_type": "display_data"
    }
   ],
   "source": [
    "current = int(time.time())\n",
    "# plt.imsave(f\"./im1/{current}.png\", piecewise, cmap='gray', vmin=0, vmax=255)\n",
    "# for i in range(len(masks)):\n",
    "#     plt.imsave(f\"./im1/{current}_mask_{i}.png\", masks[i], cmap='gray', vmin=0, vmax=1)\n",
    "plt.imshow(piecewise, cmap='gray', vmin=0, vmax=255)"
   ]
  },
  {
   "cell_type": "code",
   "execution_count": 17,
   "metadata": {},
   "outputs": [
    {
     "data": {
      "text/plain": [
       "<matplotlib.image.AxesImage at 0x7fb59334ee90>"
      ]
     },
     "execution_count": 17,
     "metadata": {},
     "output_type": "execute_result"
    },
    {
     "data": {
      "image/png": "[encoded data removed]",
      "text/plain": [
       "<Figure size 432x288 with 1 Axes>"
      ]
     },
     "metadata": {
      "needs_background": "light"
     },
     "output_type": "display_data"
    }
   ],
   "source": [
    "plt.imshow(masks[0], cmap='gray', vmin=0, vmax=1)"
   ]
  },
  {
   "cell_type": "code",
   "execution_count": 19,
   "metadata": {},
   "outputs": [
    {
     "data": {
      "text/plain": [
       "<matplotlib.image.AxesImage at 0x7fb5933d7d90>"
      ]
     },
     "execution_count": 19,
     "metadata": {},
     "output_type": "execute_result"
    },
    {
     "data": {
      "image/png": "[encoded data removed]",
      "text/plain": [
       "<Figure size 432x288 with 1 Axes>"
      ]
     },
     "metadata": {
      "needs_background": "light"
     },
     "output_type": "display_data"
    }
   ],
   "source": [
    "plt.imshow(masks[1], cmap='gray', vmin=0, vmax=1)"
   ]
  },
  {
   "cell_type": "code",
   "execution_count": 20,
   "metadata": {},
   "outputs": [
    {
     "data": {
      "text/plain": [
       "<matplotlib.image.AxesImage at 0x7fb592f1f410>"
      ]
     },
     "execution_count": 20,
     "metadata": {},
     "output_type": "execute_result"
    },
    {
     "data": {
      "image/png": "[encoded data removed]",
      "text/plain": [
       "<Figure size 432x288 with 1 Axes>"
      ]
     },
     "metadata": {
      "needs_background": "light"
     },
     "output_type": "display_data"
    }
   ],
   "source": [
    "plt.imshow(masks[2], cmap='gray', vmin=0, vmax=1)"
   ]
  },
  {
   "cell_type": "code",
   "execution_count": null,
   "metadata": {},
   "outputs": [],
   "source": []
  }
 ],
 "metadata": {
  "interpreter": {
   "hash": "b336cd4a0085f656c2a19d2767d8e261aa3767dce9db0456a2003f6ce8a0d051"
  },
  "kernelspec": {
   "display_name": "Python 3",
   "language": "python",
   "name": "python3"
  },
  "language_info": {
   "codemirror_mode": {
    "name": "ipython",
    "version": 3
   },
   "file_extension": ".py",
   "mimetype": "text/x-python",
   "name": "python",
   "nbconvert_exporter": "python",
   "pygments_lexer": "ipython3",
   "version": "3.7.9"
  }
 },
 "nbformat": 4,
 "nbformat_minor": 2
}
