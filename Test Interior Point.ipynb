{
 "cells": [
  {
   "cell_type": "code",
   "execution_count": 506,
   "metadata": {},
   "outputs": [],
   "source": [
    "#import Pkg; Pkg.add(\"FileIO\")\n",
    "include(\"opt.jl\")\n",
    "include(\"objective.jl\")\n",
    "using Images, FileIO"
   ]
  },
  {
   "cell_type": "code",
   "execution_count": 507,
   "metadata": {},
   "outputs": [
    {
     "data": {
      "image/png": "[encoded data removed]",
      "text/plain": [
       "30×30 Array{Gray{N0f8},2} with eltype Gray{N0f8}:\n",
       " Gray{N0f8}(0.169)  Gray{N0f8}(0.169)  …  Gray{N0f8}(0.165)\n",
       " Gray{N0f8}(0.137)  Gray{N0f8}(0.18)      Gray{N0f8}(0.173)\n",
       " Gray{N0f8}(0.184)  Gray{N0f8}(0.157)     Gray{N0f8}(0.169)\n",
       " Gray{N0f8}(0.141)  Gray{N0f8}(0.149)     Gray{N0f8}(0.098)\n",
       " Gray{N0f8}(0.141)  Gray{N0f8}(0.153)     Gray{N0f8}(0.141)\n",
       " Gray{N0f8}(0.227)  Gray{N0f8}(0.196)  …  Gray{N0f8}(0.063)\n",
       " Gray{N0f8}(0.188)  Gray{N0f8}(0.118)     Gray{N0f8}(0.188)\n",
       " Gray{N0f8}(0.114)  Gray{N0f8}(0.125)     Gray{N0f8}(0.118)\n",
       " Gray{N0f8}(0.165)  Gray{N0f8}(0.157)     Gray{N0f8}(0.149)\n",
       " Gray{N0f8}(0.173)  Gray{N0f8}(0.18)      Gray{N0f8}(0.153)\n",
       " Gray{N0f8}(0.169)  Gray{N0f8}(0.133)  …  Gray{N0f8}(0.153)\n",
       " Gray{N0f8}(0.235)  Gray{N0f8}(0.157)     Gray{N0f8}(0.137)\n",
       " Gray{N0f8}(0.169)  Gray{N0f8}(0.125)     Gray{N0f8}(0.141)\n",
       " ⋮                                     ⋱  \n",
       " Gray{N0f8}(0.173)  Gray{N0f8}(0.149)     Gray{N0f8}(0.188)\n",
       " Gray{N0f8}(0.204)  Gray{N0f8}(0.153)     Gray{N0f8}(0.169)\n",
       " Gray{N0f8}(0.137)  Gray{N0f8}(0.133)  …  Gray{N0f8}(0.18)\n",
       " Gray{N0f8}(0.153)  Gray{N0f8}(0.18)      Gray{N0f8}(0.173)\n",
       " Gray{N0f8}(0.153)  Gray{N0f8}(0.165)     Gray{N0f8}(0.137)\n",
       " Gray{N0f8}(0.114)  Gray{N0f8}(0.153)     Gray{N0f8}(0.125)\n",
       " Gray{N0f8}(0.173)  Gray{N0f8}(0.149)     Gray{N0f8}(0.153)\n",
       " Gray{N0f8}(0.184)  Gray{N0f8}(0.157)  …  Gray{N0f8}(0.169)\n",
       " Gray{N0f8}(0.125)  Gray{N0f8}(0.173)     Gray{N0f8}(0.157)\n",
       " Gray{N0f8}(0.165)  Gray{N0f8}(0.141)     Gray{N0f8}(0.184)\n",
       " Gray{N0f8}(0.153)  Gray{N0f8}(0.141)     Gray{N0f8}(0.114)\n",
       " Gray{N0f8}(0.165)  Gray{N0f8}(0.141)     Gray{N0f8}(0.141)"
      ]
     },
     "execution_count": 507,
     "metadata": {},
     "output_type": "execute_result"
    }
   ],
   "source": [
    "img = load(\"./im1/1638815998.png\")\n",
    "imgg = Gray.(img);\n",
    "image_mat = transpose(convert(Array{Float64}, imgg));\n",
    "imgg"
   ]
  },
  {
   "cell_type": "code",
   "execution_count": 508,
   "metadata": {},
   "outputs": [],
   "source": [
    "function interior_point_method(f, ∇f, p, ∇p, x, image; ρ=1, γ=2, ϵ=1e-8, α=1, λ=1)\n",
    "    delta = Inf\n",
    "    while delta > ϵ\n",
    "        objective = x -> f(x, g=image, λ=λ, α=α) + p(x, ρ=ρ, g=image)\n",
    "        grad = x -> ∇f(x, g=image, λ=λ, α=α) .+ ∇p(x, ρ=ρ, g=image)\n",
    "        x′, fev = minimize(objective, grad, x)\n",
    "        delta = norm(x′ - x)\n",
    "        x = x′\n",
    "        ρ *= γ\n",
    "        print(\"ρ = \", ρ, \"\\n\")\n",
    "    end\n",
    "    return x\n",
    "end;"
   ]
  },
  {
   "cell_type": "code",
   "execution_count": 509,
   "metadata": {},
   "outputs": [
    {
     "name": "stdout",
     "output_type": "stream",
     "text": [
      "ρ = 2\n",
      "ρ = 4\n",
      "ρ = 8\n"
     ]
    }
   ],
   "source": [
    "imheight, imwidth = size(image_mat)\n",
    "α = 2\n",
    "λ = 2\n",
    "x = .5*ones(imheight*imwidth + imheight*(imwidth - 1) + imwidth*(imheight - 1));\n",
    "xip = interior_point_method(gg, ∇gg, p, ∇p, x, image_mat, α=α, λ=λ);\n",
    "f,h,v = x_to_fhv(xip, image_mat);"
   ]
  },
  {
   "cell_type": "code",
   "execution_count": 510,
   "metadata": {},
   "outputs": [
    {
     "name": "stdout",
     "output_type": "stream",
     "text": [
      "f(x_initial) = 1771.5587581699353\n",
      "f(x_final) = 63.81929620995055\n",
      "max(x_final) = 0.6521368544010757\n",
      "min(x_final) = 9.99507416835749e-13\n"
     ]
    }
   ],
   "source": [
    "# checks\n",
    "print(\"f(x_initial) = \", gg(x, g=image_mat, λ=λ,α=α), \"\\n\")\n",
    "print(\"f(x_final) = \", gg(xip, g=image_mat, λ=λ,α=α), \"\\n\")\n",
    "print(\"max(x_final) = \", maximum(xip), \"\\n\")\n",
    "print(\"min(x_final) = \", minimum(xip), \"\\n\")"
   ]
  },
  {
   "cell_type": "code",
   "execution_count": 511,
   "metadata": {},
   "outputs": [
    {
     "data": {
      "image/png": "[encoded data removed]",
      "text/plain": [
       "30×30 reinterpret(reshape, Gray{Float64}, ::Matrix{Float64}) with eltype Gray{Float64}:\n",
       " Gray{Float64}(0.335196)  Gray{Float64}(0.335675)  …  Gray{Float64}(0.333232)\n",
       " Gray{Float64}(0.319801)  Gray{Float64}(0.340697)     Gray{Float64}(0.337523)\n",
       " Gray{Float64}(0.3427)    Gray{Float64}(0.330283)     Gray{Float64}(0.334968)\n",
       " Gray{Float64}(0.321813)  Gray{Float64}(0.325462)     Gray{Float64}(0.300494)\n",
       " Gray{Float64}(0.321758)  Gray{Float64}(0.32776)      Gray{Float64}(0.322057)\n",
       " Gray{Float64}(0.36487)   Gray{Float64}(0.347087)  …  Gray{Float64}(0.282285)\n",
       " Gray{Float64}(0.345736)  Gray{Float64}(0.310422)     Gray{Float64}(0.345126)\n",
       " Gray{Float64}(0.307656)  Gray{Float64}(0.313451)     Gray{Float64}(0.309496)\n",
       " Gray{Float64}(0.333344)  Gray{Float64}(0.329612)     Gray{Float64}(0.325793)\n",
       " Gray{Float64}(0.337204)  Gray{Float64}(0.34135)      Gray{Float64}(0.327136)\n",
       " Gray{Float64}(0.335654)  Gray{Float64}(0.318008)  …  Gray{Float64}(0.327837)\n",
       " Gray{Float64}(0.368264)  Gray{Float64}(0.329529)     Gray{Float64}(0.319464)\n",
       " Gray{Float64}(0.335124)  Gray{Float64}(0.314355)     Gray{Float64}(0.320957)\n",
       " ⋮                                                 ⋱  \n",
       " Gray{Float64}(0.336674)  Gray{Float64}(0.32576)      Gray{Float64}(0.344919)\n",
       " Gray{Float64}(0.353399)  Gray{Float64}(0.327147)     Gray{Float64}(0.335879)\n",
       " Gray{Float64}(0.319845)  Gray{Float64}(0.318008)  …  Gray{Float64}(0.341343)\n",
       " Gray{Float64}(0.327596)  Gray{Float64}(0.340225)     Gray{Float64}(0.337266)\n",
       " Gray{Float64}(0.327132)  Gray{Float64}(0.333762)     Gray{Float64}(0.319468)\n",
       " Gray{Float64}(0.308425)  Gray{Float64}(0.326541)     Gray{Float64}(0.313829)\n",
       " Gray{Float64}(0.337367)  Gray{Float64}(0.325767)     Gray{Float64}(0.327253)\n",
       " Gray{Float64}(0.343339)  Gray{Float64}(0.328999)  …  Gray{Float64}(0.33582)\n",
       " Gray{Float64}(0.313393)  Gray{Float64}(0.337916)     Gray{Float64}(0.329205)\n",
       " Gray{Float64}(0.334081)  Gray{Float64}(0.320663)     Gray{Float64}(0.343373)\n",
       " Gray{Float64}(0.327365)  Gray{Float64}(0.321766)     Gray{Float64}(0.308426)\n",
       " Gray{Float64}(0.333391)  Gray{Float64}(0.321533)     Gray{Float64}(0.321389)"
      ]
     },
     "execution_count": 511,
     "metadata": {},
     "output_type": "execute_result"
    }
   ],
   "source": [
    "colorview(Gray, f)"
   ]
  },
  {
   "cell_type": "code",
   "execution_count": 512,
   "metadata": {},
   "outputs": [
    {
     "data": {
      "text/plain": [
       "(30, 30)"
      ]
     },
     "execution_count": 512,
     "metadata": {},
     "output_type": "execute_result"
    }
   ],
   "source": [
    "r, c = size(f)"
   ]
  },
  {
   "cell_type": "markdown",
   "metadata": {},
   "source": [
    "# Now can(should) work with image of any size."
   ]
  },
  {
   "cell_type": "code",
   "execution_count": 514,
   "metadata": {},
   "outputs": [
    {
     "data": {
      "image/png": "[encoded data removed]",
      "text/plain": [
       "29×29 reinterpret(reshape, Gray{Float64}, ::Matrix{Float64}) with eltype Gray{Float64}:\n",
       " Gray{Float64}(0.020091)    …  Gray{Float64}(0.00318639)\n",
       " Gray{Float64}(0.013245)       Gray{Float64}(0.00781901)\n",
       " Gray{Float64}(0.0012971)      Gray{Float64}(0.0680202)\n",
       " Gray{Float64}(0.00160461)     Gray{Float64}(0.0243172)\n",
       " Gray{Float64}(0.0286398)      Gray{Float64}(0.121898)\n",
       " Gray{Float64}(0.110122)    …  Gray{Float64}(0.308253)\n",
       " Gray{Float64}(0.00207544)     Gray{Float64}(0.0594456)\n",
       " Gray{Float64}(0.0106284)      Gray{Float64}(0.0106391)\n",
       " Gray{Float64}(0.00629659)     Gray{Float64}(0.00160194)\n",
       " Gray{Float64}(0.0347641)      Gray{Float64}(0.00254355)\n",
       " Gray{Float64}(0.0664828)   …  Gray{Float64}(0.00652121)\n",
       " Gray{Float64}(0.0286117)      Gray{Float64}(0.0026846)\n",
       " Gray{Float64}(0.00318537)     Gray{Float64}(0.00255718)\n",
       " ⋮                          ⋱  \n",
       " Gray{Float64}(0.0132849)      Gray{Float64}(0.0181741)\n",
       " Gray{Float64}(0.0261951)      Gray{Float64}(0.00409649)\n",
       " Gray{Float64}(0.00409288)     Gray{Float64}(0.00907491)\n",
       " Gray{Float64}(0.0297659)   …  Gray{Float64}(0.00321322)\n",
       " Gray{Float64}(0.00396352)     Gray{Float64}(0.0127607)\n",
       " Gray{Float64}(0.0168854)      Gray{Float64}(0.00207791)\n",
       " Gray{Float64}(0.00580685)     Gray{Float64}(0.0684858)\n",
       " Gray{Float64}(0.0083171)      Gray{Float64}(0.0027201)\n",
       " Gray{Float64}(0.024796)    …  Gray{Float64}(0.00398525)\n",
       " Gray{Float64}(0.0157116)      Gray{Float64}(0.0263772)\n",
       " Gray{Float64}(0.0014353)      Gray{Float64}(0.0508426)\n",
       " Gray{Float64}(0.00565205)     Gray{Float64}(0.0297974)"
      ]
     },
     "execution_count": 514,
     "metadata": {},
     "output_type": "execute_result"
    }
   ],
   "source": [
    "new_h = h\n",
    "arr_h = [new_h[i] for i = 1:(r*(c-1))]\n",
    "test_h = reshape(arr_h, (r, c-1))\n",
    "test_h = transpose(test_h)[r:(r*(c-1))]\n",
    "test_h = reshape(test_h, (r-1, c-1))\n",
    "new_v = transpose(v[r:(r*(c-1))])\n",
    "arr_v = [new_v[i] for i = 1:(r*(c-2))+1]\n",
    "test_v = reshape(arr_v, (r-1, c-1))\n",
    "new_mat = transpose(test_v) + test_h\n",
    "colorview(Gray, new_mat*10000)"
   ]
  }
 ],
 "metadata": {
  "kernelspec": {
   "display_name": "Julia 1.6.3",
   "language": "julia",
   "name": "julia-1.6"
  },
  "language_info": {
   "file_extension": ".jl",
   "mimetype": "application/julia",
   "name": "julia",
   "version": "1.6.3"
  }
 },
 "nbformat": 4,
 "nbformat_minor": 4
}
