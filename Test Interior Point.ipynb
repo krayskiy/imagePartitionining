{
 "cells": [
  {
   "cell_type": "code",
   "execution_count": 173,
   "metadata": {},
   "outputs": [],
   "source": [
    "include(\"opt.jl\")\n",
    "include(\"objective.jl\")\n",
    "using Images, FileIO"
   ]
  },
  {
   "cell_type": "code",
   "execution_count": 174,
   "metadata": {},
   "outputs": [
    {
     "data": {
      "image/png": "[encoded data removed]",
      "text/plain": [
       "30×30 Array{RGBA{N0f8},2} with eltype RGBA{N0f8}:\n",
       " RGBA{N0f8}(0.169,0.169,0.169,1.0)  …  RGBA{N0f8}(0.165,0.165,0.165,1.0)\n",
       " RGBA{N0f8}(0.137,0.137,0.137,1.0)     RGBA{N0f8}(0.173,0.173,0.173,1.0)\n",
       " RGBA{N0f8}(0.184,0.184,0.184,1.0)     RGBA{N0f8}(0.169,0.169,0.169,1.0)\n",
       " RGBA{N0f8}(0.141,0.141,0.141,1.0)     RGBA{N0f8}(0.098,0.098,0.098,1.0)\n",
       " RGBA{N0f8}(0.141,0.141,0.141,1.0)     RGBA{N0f8}(0.141,0.141,0.141,1.0)\n",
       " RGBA{N0f8}(0.227,0.227,0.227,1.0)  …  RGBA{N0f8}(0.063,0.063,0.063,1.0)\n",
       " RGBA{N0f8}(0.188,0.188,0.188,1.0)     RGBA{N0f8}(0.188,0.188,0.188,1.0)\n",
       " RGBA{N0f8}(0.114,0.114,0.114,1.0)     RGBA{N0f8}(0.118,0.118,0.118,1.0)\n",
       " RGBA{N0f8}(0.165,0.165,0.165,1.0)     RGBA{N0f8}(0.149,0.149,0.149,1.0)\n",
       " RGBA{N0f8}(0.173,0.173,0.173,1.0)     RGBA{N0f8}(0.153,0.153,0.153,1.0)\n",
       " RGBA{N0f8}(0.169,0.169,0.169,1.0)  …  RGBA{N0f8}(0.153,0.153,0.153,1.0)\n",
       " RGBA{N0f8}(0.235,0.235,0.235,1.0)     RGBA{N0f8}(0.137,0.137,0.137,1.0)\n",
       " RGBA{N0f8}(0.169,0.169,0.169,1.0)     RGBA{N0f8}(0.141,0.141,0.141,1.0)\n",
       " ⋮                                  ⋱  \n",
       " RGBA{N0f8}(0.173,0.173,0.173,1.0)     RGBA{N0f8}(0.188,0.188,0.188,1.0)\n",
       " RGBA{N0f8}(0.204,0.204,0.204,1.0)     RGBA{N0f8}(0.169,0.169,0.169,1.0)\n",
       " RGBA{N0f8}(0.137,0.137,0.137,1.0)  …  RGBA{N0f8}(0.18,0.18,0.18,1.0)\n",
       " RGBA{N0f8}(0.153,0.153,0.153,1.0)     RGBA{N0f8}(0.173,0.173,0.173,1.0)\n",
       " RGBA{N0f8}(0.153,0.153,0.153,1.0)     RGBA{N0f8}(0.137,0.137,0.137,1.0)\n",
       " RGBA{N0f8}(0.114,0.114,0.114,1.0)     RGBA{N0f8}(0.125,0.125,0.125,1.0)\n",
       " RGBA{N0f8}(0.173,0.173,0.173,1.0)     RGBA{N0f8}(0.153,0.153,0.153,1.0)\n",
       " RGBA{N0f8}(0.184,0.184,0.184,1.0)  …  RGBA{N0f8}(0.169,0.169,0.169,1.0)\n",
       " RGBA{N0f8}(0.125,0.125,0.125,1.0)     RGBA{N0f8}(0.157,0.157,0.157,1.0)\n",
       " RGBA{N0f8}(0.165,0.165,0.165,1.0)     RGBA{N0f8}(0.184,0.184,0.184,1.0)\n",
       " RGBA{N0f8}(0.153,0.153,0.153,1.0)     RGBA{N0f8}(0.114,0.114,0.114,1.0)\n",
       " RGBA{N0f8}(0.165,0.165,0.165,1.0)     RGBA{N0f8}(0.141,0.141,0.141,1.0)"
      ]
     },
     "execution_count": 174,
     "metadata": {},
     "output_type": "execute_result"
    }
   ],
   "source": [
    "imgg = Gray.(img);\n",
    "image_mat = transpose(convert(Array{Float64}, imgg));\n",
    "img = load(\"./im1/1638815998.png\")"
   ]
  },
  {
   "cell_type": "code",
   "execution_count": 175,
   "metadata": {},
   "outputs": [],
   "source": [
    "function interior_point_method(f, ∇f, p, ∇p, x, image; ρ=1, γ=2, ϵ=1e-8, α=1, λ=1)\n",
    "    delta = Inf\n",
    "    while delta > ϵ\n",
    "        objective = x -> f(x, g=image, λ=λ, α=α) + p(x, ρ=ρ, g=image)\n",
    "        grad = x -> ∇f(x, g=image, λ=λ, α=α) .+ ∇p(x, ρ=ρ, g=image)\n",
    "        x′, fev = minimize(objective, grad, x)\n",
    "        delta = norm(x′ - x)\n",
    "        x = x′\n",
    "        ρ *= γ\n",
    "        print(\"ρ = \", ρ, \"\\n\")\n",
    "    end\n",
    "    return x\n",
    "end;"
   ]
  },
  {
   "cell_type": "code",
   "execution_count": 177,
   "metadata": {},
   "outputs": [
    {
     "name": "stdout",
     "output_type": "stream",
     "text": [
      "ρ = 2\n",
      "ρ = 4\n"
     ]
    }
   ],
   "source": [
    "imheight, imwidth = size(image_mat)\n",
    "α = 2\n",
    "λ = 1\n",
    "x = .5*ones(imheight*imwidth + imheight*(imwidth - 1) + imwidth*(imheight - 1));\n",
    "xip = interior_point_method(gg, ∇gg, p, ∇p, x, image_mat, α=α, λ=λ);\n",
    "f,h,v = x_to_fhv(xip, image_mat);"
   ]
  },
  {
   "cell_type": "code",
   "execution_count": 178,
   "metadata": {},
   "outputs": [
    {
     "name": "stdout",
     "output_type": "stream",
     "text": [
      "f(x_initial) = 1836.8695271049598\n",
      "f(x_final) = 50.70913439207449\n",
      "max(x_final) = 0.6517051565434124\n",
      "min(x_final) = 1.0587911840678754e-22\n"
     ]
    }
   ],
   "source": [
    "# checks\n",
    "print(\"f(x_initial) = \", gg(x, g=image_mat, λ=λ,α=α), \"\\n\")\n",
    "print(\"f(x_final) = \", gg(xip, g=image_mat, λ=λ,α=α), \"\\n\")\n",
    "print(\"max(x_final) = \", maximum(xip), \"\\n\")\n",
    "print(\"min(x_final) = \", minimum(xip), \"\\n\")"
   ]
  },
  {
   "cell_type": "code",
   "execution_count": 179,
   "metadata": {},
   "outputs": [
    {
     "data": {
      "image/png": "[encoded data removed]",
      "text/plain": [
       "30×30 reinterpret(reshape, Gray{Float64}, ::Matrix{Float64}) with eltype Gray{Float64}:\n",
       " Gray{Float64}(0.335292)  Gray{Float64}(0.335436)  …  Gray{Float64}(0.333339)\n",
       " Gray{Float64}(0.319725)  Gray{Float64}(0.341053)     Gray{Float64}(0.33736)\n",
       " Gray{Float64}(0.343013)  Gray{Float64}(0.329697)     Gray{Float64}(0.335226)\n",
       " Gray{Float64}(0.321704)  Gray{Float64}(0.325537)     Gray{Float64}(0.300267)\n",
       " Gray{Float64}(0.321693)  Gray{Float64}(0.327575)     Gray{Float64}(0.321785)\n",
       " Gray{Float64}(0.364694)  Gray{Float64}(0.348439)  …  Gray{Float64}(0.282515)\n",
       " Gray{Float64}(0.345301)  Gray{Float64}(0.310076)     Gray{Float64}(0.345102)\n",
       " Gray{Float64}(0.307894)  Gray{Float64}(0.313733)     Gray{Float64}(0.309811)\n",
       " Gray{Float64}(0.333376)  Gray{Float64}(0.329525)     Gray{Float64}(0.32564)\n",
       " Gray{Float64}(0.337279)  Gray{Float64}(0.341251)     Gray{Float64}(0.327406)\n",
       " Gray{Float64}(0.335447)  Gray{Float64}(0.317846)  …  Gray{Float64}(0.327619)\n",
       " Gray{Float64}(0.368468)  Gray{Float64}(0.329507)     Gray{Float64}(0.319648)\n",
       " Gray{Float64}(0.335285)  Gray{Float64}(0.314009)     Gray{Float64}(0.321454)\n",
       " ⋮                                                 ⋱  \n",
       " Gray{Float64}(0.337117)  Gray{Float64}(0.325629)     Gray{Float64}(0.345058)\n",
       " Gray{Float64}(0.353061)  Gray{Float64}(0.327417)     Gray{Float64}(0.335521)\n",
       " Gray{Float64}(0.319759)  Gray{Float64}(0.317823)  …  Gray{Float64}(0.341255)\n",
       " Gray{Float64}(0.327531)  Gray{Float64}(0.340906)     Gray{Float64}(0.337297)\n",
       " Gray{Float64}(0.327402)  Gray{Float64}(0.333479)     Gray{Float64}(0.319652)\n",
       " Gray{Float64}(0.308111)  Gray{Float64}(0.327233)     Gray{Float64}(0.313851)\n",
       " Gray{Float64}(0.337323)  Gray{Float64}(0.325626)     Gray{Float64}(0.327447)\n",
       " Gray{Float64}(0.343208)  Gray{Float64}(0.329345)  …  Gray{Float64}(0.335472)\n",
       " Gray{Float64}(0.313729)  Gray{Float64}(0.33747)      Gray{Float64}(0.3294)\n",
       " Gray{Float64}(0.333593)  Gray{Float64}(0.321389)     Gray{Float64}(0.34323)\n",
       " Gray{Float64}(0.327483)  Gray{Float64}(0.32169)      Gray{Float64}(0.308145)\n",
       " Gray{Float64}(0.33338)   Gray{Float64}(0.32162)      Gray{Float64}(0.321606)"
      ]
     },
     "execution_count": 179,
     "metadata": {},
     "output_type": "execute_result"
    }
   ],
   "source": [
    "colorview(Gray, f)"
   ]
  },
  {
   "cell_type": "code",
   "execution_count": 180,
   "metadata": {},
   "outputs": [
    {
     "data": {
      "image/png": "[encoded data removed]",
      "text/plain": [
       "30×29 reinterpret(reshape, Gray{Float64}, ::Matrix{Float64}) with eltype Gray{Float64}:\n",
       " Gray{Float64}(4.97887e-13)  …  Gray{Float64}(3.57066e-8)\n",
       " Gray{Float64}(9.90266e-8)      Gray{Float64}(1.4261e-7)\n",
       " Gray{Float64}(3.1954e-7)       Gray{Float64}(3.9404e-7)\n",
       " Gray{Float64}(3.96685e-9)      Gray{Float64}(3.93806e-7)\n",
       " Gray{Float64}(3.95269e-9)      Gray{Float64}(6.36082e-8)\n",
       " Gray{Float64}(6.63425e-7)   …  Gray{Float64}(2.53223e-7)\n",
       " Gray{Float64}(1.26453e-6)      Gray{Float64}(1.57707e-8)\n",
       " Gray{Float64}(9.91749e-8)      Gray{Float64}(9.93699e-8)\n",
       " Gray{Float64}(3.57443e-8)      Gray{Float64}(5.66194e-7)\n",
       " Gray{Float64}(1.93832e-7)      Gray{Float64}(5.65992e-7)\n",
       " Gray{Float64}(4.75982e-7)   …  Gray{Float64}(6.634e-7)\n",
       " Gray{Float64}(3.9616e-9)       Gray{Float64}(1.42634e-7)\n",
       " Gray{Float64}(9.90843e-8)      Gray{Float64}(4.76175e-7)\n",
       " ⋮                           ⋱  \n",
       " Gray{Float64}(8.81165e-7)      Gray{Float64}(9.91711e-8)\n",
       " Gray{Float64}(6.35698e-8)      Gray{Float64}(1.00091e-6)\n",
       " Gray{Float64}(3.19641e-7)   …  Gray{Float64}(3.19566e-7)\n",
       " Gray{Float64}(6.34755e-8)      Gray{Float64}(3.57553e-8)\n",
       " Gray{Float64}(5.65812e-7)      Gray{Float64}(6.35239e-8)\n",
       " Gray{Float64}(3.99132e-9)      Gray{Float64}(3.97355e-9)\n",
       " Gray{Float64}(3.96718e-9)      Gray{Float64}(9.90537e-8)\n",
       " Gray{Float64}(1.42715e-7)   …  Gray{Float64}(2.5285e-7)\n",
       " Gray{Float64}(7.6858e-7)       Gray{Float64}(2.52954e-7)\n",
       " Gray{Float64}(5.66046e-7)      Gray{Float64}(5.66238e-7)\n",
       " Gray{Float64}(1.58859e-8)      Gray{Float64}(1.93648e-7)\n",
       " Gray{Float64}(4.76055e-7)      Gray{Float64}(5.65765e-7)"
      ]
     },
     "execution_count": 180,
     "metadata": {},
     "output_type": "execute_result"
    }
   ],
   "source": [
    "colorview(Gray, v)"
   ]
  },
  {
   "cell_type": "code",
   "execution_count": 181,
   "metadata": {},
   "outputs": [
    {
     "data": {
      "image/png": "[encoded data removed]",
      "text/plain": [
       "29×30 reinterpret(reshape, Gray{Float64}, ::Matrix{Float64}) with eltype Gray{Float64}:\n",
       " Gray{Float64}(2.52836e-7)   …  Gray{Float64}(1.18195e-13)\n",
       " Gray{Float64}(3.56725e-8)      Gray{Float64}(3.57085e-8)\n",
       " Gray{Float64}(7.6812e-7)       Gray{Float64}(1.00073e-6)\n",
       " Gray{Float64}(3.5742e-8)       Gray{Float64}(7.68348e-7)\n",
       " Gray{Float64}(9.90931e-8)      Gray{Float64}(7.69014e-7)\n",
       " Gray{Float64}(3.70576e-6)   …  Gray{Float64}(1.30733e-11)\n",
       " Gray{Float64}(3.94465e-7)      Gray{Float64}(4.76452e-7)\n",
       " Gray{Float64}(1.58873e-8)      Gray{Float64}(3.19649e-7)\n",
       " Gray{Float64}(6.35003e-8)      Gray{Float64}(3.9783e-9)\n",
       " Gray{Float64}(1.5916e-8)       Gray{Float64}(1.59108e-8)\n",
       " Gray{Float64}(1.59191e-8)   …  Gray{Float64}(1.71535e-6)\n",
       " Gray{Float64}(1.42472e-7)      Gray{Float64}(8.80816e-7)\n",
       " Gray{Float64}(3.93914e-7)      Gray{Float64}(2.52782e-7)\n",
       " ⋮                           ⋱  \n",
       " Gray{Float64}(2.57362e-13)     Gray{Float64}(3.96267e-9)\n",
       " Gray{Float64}(3.94061e-7)      Gray{Float64}(3.1956e-7)\n",
       " Gray{Float64}(6.63615e-7)      Gray{Float64}(8.81164e-7)\n",
       " Gray{Float64}(6.35339e-8)   …  Gray{Float64}(3.57784e-8)\n",
       " Gray{Float64}(5.65755e-7)      Gray{Float64}(4.76237e-7)\n",
       " Gray{Float64}(2.52884e-7)      Gray{Float64}(1.93872e-7)\n",
       " Gray{Float64}(1.4066e-6)       Gray{Float64}(6.33238e-8)\n",
       " Gray{Float64}(3.57762e-8)      Gray{Float64}(1.1287e-6)\n",
       " Gray{Float64}(2.53e-7)      …  Gray{Float64}(3.56884e-8)\n",
       " Gray{Float64}(3.9434e-7)       Gray{Float64}(3.19853e-7)\n",
       " Gray{Float64}(1.55735e-6)      Gray{Float64}(2.52797e-7)\n",
       " Gray{Float64}(5.5368e-14)      Gray{Float64}(1.93707e-7)"
      ]
     },
     "execution_count": 181,
     "metadata": {},
     "output_type": "execute_result"
    }
   ],
   "source": [
    "colorview(Gray, h)"
   ]
  },
  {
   "cell_type": "code",
   "execution_count": null,
   "metadata": {},
   "outputs": [],
   "source": []
  },
  {
   "cell_type": "code",
   "execution_count": null,
   "metadata": {},
   "outputs": [],
   "source": []
  },
  {
   "cell_type": "code",
   "execution_count": null,
   "metadata": {},
   "outputs": [],
   "source": [
    "|"
   ]
  }
 ],
 "metadata": {
  "kernelspec": {
   "display_name": "Julia 1.6.2",
   "language": "julia",
   "name": "julia-1.6"
  },
  "language_info": {
   "file_extension": ".jl",
   "mimetype": "application/julia",
   "name": "julia",
   "version": "1.6.2"
  }
 },
 "nbformat": 4,
 "nbformat_minor": 4
}
