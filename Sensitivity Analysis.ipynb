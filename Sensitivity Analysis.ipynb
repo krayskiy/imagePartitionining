{
 "cells": [
  {
   "cell_type": "markdown",
   "metadata": {},
   "source": [
    "## Sensitivity Analysis Experiment\n",
    "Try out different values of $\\lambda$ and $\\alpha$ in the cost function on the 10 images in the dataset. See which seems to perform the best on average. \n",
    "1. 10 images * 20 $\\alpha$s * 20 $\\lambda$s = 4000 optimizations. The algorithm doesn't seem very sensitive to starting point, so we ignore this. \n",
    "2. 8 columns, $\\lambda, \\alpha$, then 5 for the confusion matrices, one for f score "
   ]
  },
  {
   "cell_type": "code",
   "execution_count": 42,
   "metadata": {},
   "outputs": [],
   "source": [
    "include(\"objective3.jl\")\n",
    "include(\"numerical_statistics.jl\")\n",
    "using Images, FileIO, Statistics, LinearAlgebra"
   ]
  },
  {
   "cell_type": "code",
   "execution_count": 43,
   "metadata": {},
   "outputs": [],
   "source": [
    "nλ = 3#20\n",
    "nα = 3#20\n",
    "n_images = 3#10\n",
    "λ_values = LinRange(.1, 1, nλ)\n",
    "α_values = LinRange(.005, .05, nα)\n",
    "summary_h = zeros(nλ*nα*n_images, 1+1+1 + 5);\n",
    "summary_v = zeros(nλ*nα*n_images, 1+1+1 + 5);\n",
    "counter = 1;"
   ]
  },
  {
   "cell_type": "code",
   "execution_count": 44,
   "metadata": {},
   "outputs": [
    {
     "name": "stdout",
     "output_type": "stream",
     "text": [
      "1 done\n",
      "2 done\n",
      "3 done\n",
      "4 done\n",
      "5 done\n",
      "6 done\n",
      "7 done\n",
      "8 done\n",
      "9 done\n",
      "10 done\n",
      "11 done\n",
      "12 done\n",
      "13 done\n",
      "14 done\n",
      "15 done\n",
      "16 done\n",
      "17 done\n",
      "18 done\n",
      "19 done\n",
      "20 done\n",
      "21 done\n",
      "22 done\n",
      "23 done\n",
      "24 done\n",
      "25 done\n",
      "26 done\n",
      "27 done\n"
     ]
    }
   ],
   "source": [
    "for i in 1:n_images\n",
    "    im_path = \"./images2/im\"*string(i)*\".png\"\n",
    "    hmask_path = \"./images2/im\"*string(i)*\"_hmask.png\"\n",
    "    vmask_path = \"./images2/im\"*string(i)*\"_vmask.png\"\n",
    "    \n",
    "    # load images\n",
    "    img = load(im_path);\n",
    "    imgg = Gray.(img);\n",
    "    im = convert(Array{Float64}, imgg);\n",
    "\n",
    "    img_hmask = load(hmask_path);\n",
    "    imgg_hmask = Gray.(img_hmask);\n",
    "    im_hmask = convert(Array{Float64}, imgg_hmask);\n",
    "\n",
    "    img_vmask = load(vmask_path);\n",
    "    imgg_vmask = Gray.(img_vmask);\n",
    "    im_vmask = convert(Array{Float64}, imgg_vmask);\n",
    "    \n",
    "    for λw in λ_values\n",
    "        for αw in α_values\n",
    "            # Set start point of optimization\n",
    "            imheight, imwidth = size(im) \n",
    "            f = .5 .+ randn(imheight, imwidth)/10;\n",
    "            h = .5 .+ randn(imheight-1, imwidth)/10;\n",
    "            v = .5 .+ randn(imheight, imwidth-1)/10;\n",
    "\n",
    "            # ### Interior Point\n",
    "            niters = 7\n",
    "            ρs = [1.5625*.2^k for k in 2:niters]\n",
    "            αws = repeat([αw], niters-1) # .005 seems to work with p, .002 seems to work well with q. .05 maximum\n",
    "            λs = repeat([λw], niters - 1)\n",
    "            f,h,v = interior_point(gg, ∇gg, q, ∇q, f, h, v, λs, ρs, αws, im)\n",
    "\n",
    "            confusion = get_confusion(h,v, im_hmask, im_vmask)\n",
    "            f_for_both = get_f_score(confusion)\n",
    "            summary_h[counter, :] .= append!([λw, αw], confusion[1, :], [f_for_both])\n",
    "            summary_v[counter, :] .= append!([λw, αw], confusion[2, :], [f_for_both])\n",
    "            print(counter, \" done\\n\")\n",
    "            counter += 1\n",
    "        end\n",
    "    end\n",
    "end"
   ]
  },
  {
   "cell_type": "code",
   "execution_count": 45,
   "metadata": {},
   "outputs": [
    {
     "data": {
      "text/plain": [
       "27×8 Matrix{Float64}:\n",
       " 0.1   0.005   840.0   0.0  0.0  30.0  870.0  0.0\n",
       " 0.1   0.0275  840.0   0.0  0.0  30.0  870.0  0.0\n",
       " 0.1   0.05    840.0   0.0  0.0  30.0  870.0  0.0\n",
       " 0.55  0.005   840.0  21.0  0.0   9.0  870.0  0.885496\n",
       " 0.55  0.0275  840.0  12.0  0.0  18.0  870.0  0.684685\n",
       " 0.55  0.05    840.0  11.0  0.0  19.0  870.0  0.635514\n",
       " 1.0   0.005   840.0  28.0  0.0   2.0  870.0  0.979021\n",
       " 1.0   0.0275  840.0  12.0  0.0  18.0  870.0  0.684685\n",
       " 1.0   0.05    840.0  12.0  0.0  18.0  870.0  0.684685\n",
       " 0.1   0.005   822.0   0.0  0.0  48.0  870.0  0.0\n",
       " 0.1   0.0275  822.0   0.0  0.0  48.0  870.0  0.0\n",
       " 0.1   0.05    822.0   0.0  0.0  48.0  870.0  0.0\n",
       " 0.55  0.005   822.0  31.0  0.0  17.0  870.0  0.836879\n",
       " ⋮                                ⋮           \n",
       " 1.0   0.005   822.0  39.0  0.0   9.0  870.0  0.921053\n",
       " 1.0   0.0275  822.0  13.0  0.0  35.0  870.0  0.621849\n",
       " 1.0   0.05    822.0  11.0  0.0  37.0  870.0  0.586207\n",
       " 0.1   0.005   835.0   0.0  0.0  35.0  870.0  0.0\n",
       " 0.1   0.0275  835.0   0.0  0.0  35.0  870.0  0.0\n",
       " 0.1   0.05    835.0   0.0  0.0  35.0  870.0  0.0\n",
       " 0.55  0.005   835.0  30.0  0.0   5.0  870.0  0.940397\n",
       " 0.55  0.0275  835.0  19.0  0.0  16.0  870.0  0.84058\n",
       " 0.55  0.05    835.0  12.0  0.0  23.0  870.0  0.461538\n",
       " 1.0   0.005   835.0  35.0  0.0   0.0  870.0  1.0\n",
       " 1.0   0.0275  835.0  20.0  0.0  15.0  870.0  0.857143\n",
       " 1.0   0.05    835.0  20.0  0.0  15.0  870.0  0.857143"
      ]
     },
     "execution_count": 45,
     "metadata": {},
     "output_type": "execute_result"
    }
   ],
   "source": [
    "summary_h"
   ]
  },
  {
   "cell_type": "code",
   "execution_count": null,
   "metadata": {},
   "outputs": [],
   "source": []
  },
  {
   "cell_type": "code",
   "execution_count": null,
   "metadata": {},
   "outputs": [],
   "source": []
  },
  {
   "cell_type": "code",
   "execution_count": null,
   "metadata": {},
   "outputs": [],
   "source": []
  }
 ],
 "metadata": {
  "kernelspec": {
   "display_name": "Julia 1.6.2",
   "language": "julia",
   "name": "julia-1.6"
  },
  "language_info": {
   "file_extension": ".jl",
   "mimetype": "application/julia",
   "name": "julia",
   "version": "1.6.2"
  }
 },
 "nbformat": 4,
 "nbformat_minor": 4
}
